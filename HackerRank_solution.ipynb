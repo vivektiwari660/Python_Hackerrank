{
 "cells": [
  {
   "cell_type": "code",
   "execution_count": null,
   "metadata": {
    "collapsed": true
   },
   "outputs": [],
   "source": [
    "vector<int> getTimeStamps(vector<int> time, vector<int> dir) { \n",
    "    int n = time.size(); \n",
    "    time.push_back(1E9 + 1E6); \n",
    "    vector<int> out(n); \n",
    "    queue<int> q[2]; // enter(0), exit(1) \n",
    "    for (int i = 0, t = time[0], fl = -1; i < n; i++) { \n",
    "        q[dir[i]].push(i); \n",
    "         while (t < time[i + 1]) { \n",
    "             if (not q[0].empty() and not fl) { \n",
    "                 out[q[0].front()] = t++; \n",
    "                q[0].pop(); \n",
    "                fl = 0; \n",
    "             } \n",
    "             else if (not q[1].empty()) { \n",
    "                 out[q[1].front()] = t++; \n",
    "                q[1].pop(); \n",
    "                 fl = 1; \n",
    "             } \n",
    "            else if (not q[0].empty()) { \n",
    "                out[q[0].front()] = t++; \n",
    "                 q[0].pop(); \n",
    "                fl = 0; \n",
    "             } \n",
    "            else { \n",
    "                t = time[i + 1]; \n",
    "                fl = -1; \n",
    "             } \n",
    "        } \n",
    "     } \n",
    "    return out; \n",
    " } \n"
   ]
  },
  {
   "cell_type": "code",
   "execution_count": 20,
   "metadata": {
    "collapsed": false
   },
   "outputs": [],
   "source": [
    "def getTimeStamps( time, dirc):\n",
    "    n=len(time)\n",
    "    out = [None] * n\n",
    "    queueenter=[]\n",
    "    queueexit=[]\n",
    "    for i in range(n):\n",
    "        t = time[0]\n",
    "        fl = -1\n",
    "        if dirc[i]==0:\n",
    "            queueenter.append(i)\n",
    "        else:\n",
    "            queueexit.append(i)\n",
    "\n",
    "            \n",
    "        while (t < time[i+1]):\n",
    "            if queueenter and fl:\n",
    "                out[queueenter[0]] = t+1\n",
    "                queueenter.pop(0)\n",
    "                fl = 0 \n",
    "            elif queueexit:\n",
    "                out[queueexit[0]] = t+1 \n",
    "                queueexit.pop(0)\n",
    "                fl = 1\n",
    "\n",
    "            elif queueenter:\n",
    "                out[queueenter[0]] = t+1\n",
    "                queueenter.pop(0) \n",
    "                fl = 0\n",
    "\n",
    "            else:\n",
    "                t = time[i + 1]\n",
    "                fl = -1\n",
    "\n",
    "    return out; \n",
    " \n",
    "\n",
    "    "
   ]
  },
  {
   "cell_type": "code",
   "execution_count": 21,
   "metadata": {
    "collapsed": false
   },
   "outputs": [
    {
     "ename": "IndexError",
     "evalue": "list index out of range",
     "output_type": "error",
     "traceback": [
      "\u001b[0;31m---------------------------------------------------------------------------\u001b[0m",
      "\u001b[0;31mIndexError\u001b[0m                                Traceback (most recent call last)",
      "\u001b[0;32m<ipython-input-21-b887a12e1e8b>\u001b[0m in \u001b[0;36m<module>\u001b[0;34m()\u001b[0m\n\u001b[1;32m      1\u001b[0m \u001b[0mtime\u001b[0m\u001b[1;33m=\u001b[0m\u001b[1;33m[\u001b[0m\u001b[1;36m0\u001b[0m\u001b[1;33m,\u001b[0m\u001b[1;36m0\u001b[0m\u001b[1;33m,\u001b[0m\u001b[1;36m1\u001b[0m\u001b[1;33m,\u001b[0m\u001b[1;36m5\u001b[0m\u001b[1;33m]\u001b[0m\u001b[1;33m\u001b[0m\u001b[0m\n\u001b[1;32m      2\u001b[0m \u001b[0mdirc\u001b[0m\u001b[1;33m=\u001b[0m\u001b[1;33m[\u001b[0m\u001b[1;36m0\u001b[0m\u001b[1;33m,\u001b[0m\u001b[1;36m1\u001b[0m\u001b[1;33m,\u001b[0m\u001b[1;36m1\u001b[0m\u001b[1;33m,\u001b[0m\u001b[1;36m0\u001b[0m\u001b[1;33m]\u001b[0m\u001b[1;33m\u001b[0m\u001b[0m\n\u001b[0;32m----> 3\u001b[0;31m \u001b[0mhey\u001b[0m\u001b[1;33m=\u001b[0m\u001b[0mgetTimeStamps\u001b[0m\u001b[1;33m(\u001b[0m \u001b[0mtime\u001b[0m\u001b[1;33m,\u001b[0m \u001b[0mdirc\u001b[0m\u001b[1;33m)\u001b[0m\u001b[1;33m\u001b[0m\u001b[0m\n\u001b[0m\u001b[1;32m      4\u001b[0m \u001b[0mprint\u001b[0m\u001b[1;33m(\u001b[0m\u001b[0mhey\u001b[0m\u001b[1;33m)\u001b[0m\u001b[1;33m\u001b[0m\u001b[0m\n",
      "\u001b[0;32m<ipython-input-20-8413aacd4e42>\u001b[0m in \u001b[0;36mgetTimeStamps\u001b[0;34m(time, dirc)\u001b[0m\n\u001b[1;32m     13\u001b[0m \u001b[1;33m\u001b[0m\u001b[0m\n\u001b[1;32m     14\u001b[0m \u001b[1;33m\u001b[0m\u001b[0m\n\u001b[0;32m---> 15\u001b[0;31m         \u001b[1;32mwhile\u001b[0m \u001b[1;33m(\u001b[0m\u001b[0mt\u001b[0m \u001b[1;33m<\u001b[0m \u001b[0mtime\u001b[0m\u001b[1;33m[\u001b[0m\u001b[0mi\u001b[0m\u001b[1;33m+\u001b[0m\u001b[1;36m1\u001b[0m\u001b[1;33m]\u001b[0m\u001b[1;33m)\u001b[0m\u001b[1;33m:\u001b[0m\u001b[1;33m\u001b[0m\u001b[0m\n\u001b[0m\u001b[1;32m     16\u001b[0m             \u001b[1;32mif\u001b[0m \u001b[0mqueueenter\u001b[0m \u001b[1;32mand\u001b[0m \u001b[0mfl\u001b[0m\u001b[1;33m:\u001b[0m\u001b[1;33m\u001b[0m\u001b[0m\n\u001b[1;32m     17\u001b[0m                 \u001b[0mout\u001b[0m\u001b[1;33m[\u001b[0m\u001b[0mqueueenter\u001b[0m\u001b[1;33m[\u001b[0m\u001b[1;36m0\u001b[0m\u001b[1;33m]\u001b[0m\u001b[1;33m]\u001b[0m \u001b[1;33m=\u001b[0m \u001b[0mt\u001b[0m\u001b[1;33m+\u001b[0m\u001b[1;36m1\u001b[0m\u001b[1;33m\u001b[0m\u001b[0m\n",
      "\u001b[0;31mIndexError\u001b[0m: list index out of range"
     ]
    }
   ],
   "source": [
    "time=[0,0,1,5]\n",
    "dirc=[0,1,1,0]\n",
    "hey=getTimeStamps( time, dirc)\n",
    "print(hey)\n"
   ]
  },
  {
   "cell_type": "code",
   "execution_count": 2,
   "metadata": {
    "collapsed": false
   },
   "outputs": [
    {
     "ename": "SyntaxError",
     "evalue": "invalid syntax (<ipython-input-2-96fdaed70edb>, line 2)",
     "output_type": "error",
     "traceback": [
      "\u001b[0;36m  File \u001b[0;32m\"<ipython-input-2-96fdaed70edb>\"\u001b[0;36m, line \u001b[0;32m2\u001b[0m\n\u001b[0;31m    a++\u001b[0m\n\u001b[0m       ^\u001b[0m\n\u001b[0;31mSyntaxError\u001b[0m\u001b[0;31m:\u001b[0m invalid syntax\n"
     ]
    }
   ],
   "source": [
    "a=1\n",
    "a++\n",
    "a"
   ]
  },
  {
   "cell_type": "code",
   "execution_count": null,
   "metadata": {
    "collapsed": true
   },
   "outputs": [],
   "source": []
  }
 ],
 "metadata": {
  "anaconda-cloud": {},
  "kernelspec": {
   "display_name": "Python [conda env:Anaconda3]",
   "language": "python",
   "name": "conda-env-Anaconda3-py"
  },
  "language_info": {
   "codemirror_mode": {
    "name": "ipython",
    "version": 3
   },
   "file_extension": ".py",
   "mimetype": "text/x-python",
   "name": "python",
   "nbconvert_exporter": "python",
   "pygments_lexer": "ipython3",
   "version": "3.5.2"
  }
 },
 "nbformat": 4,
 "nbformat_minor": 1
}
