{
 "cells": [
  {
   "cell_type": "code",
   "execution_count": 8,
   "metadata": {
    "collapsed": false
   },
   "outputs": [
    {
     "name": "stdout",
     "output_type": "stream",
     "text": [
      "[[[0, 0], [1, 0], [0, 1], [2, 0], [1, 1], [1, 1], [0, 2], [3, 0], [2, 1], [2, 1], [3, 1], [3, 1], [3, 2]], [[0, 4]], [[1, 3]]]\n",
      "[[[0, 0], [1, 0], [0, 1], [2, 0], [1, 1], [1, 1], [0, 2], [3, 0], [3, 1], [3, 2]], [[0, 4]], [[1, 3]]]\n",
      "2\n"
     ]
    }
   ],
   "source": [
    "def numIslands(grid):\n",
    "        if not grid or len(grid) == 0:\n",
    "            return 0\n",
    "        rows,cols = len(grid), len(grid[0])\n",
    "        count = 0\n",
    "        island_list = []\n",
    "        #queue = []       \n",
    "        for row in range(rows):\n",
    "            for col in range(cols):\n",
    "                if grid[row][col] == 1: \n",
    "                    count += 1\n",
    "                    #print(count)\n",
    "                    queue = []\n",
    "                    queue1=[]# store index of nodes with value '1'\n",
    "                    queue.append([row,col])\n",
    "                    \n",
    "                    #print(queue)\n",
    "                    while queue:\n",
    "                        r, c = queue.pop(0)\n",
    "                        queue1.append([r,c])\n",
    "                        \n",
    "                        #print(r,c)\n",
    "                        if grid[r][c] == 0: \n",
    "                            continue\n",
    "                        else:\n",
    "                            grid[r][c] = 0\n",
    "                            if r > 0 and grid[r-1][c] == 1:\n",
    "                                queue.append([r-1,c])\n",
    "                            if r < rows-1 and grid[r+1][c] == 1:\n",
    "                                queue.append([r+1, c])\n",
    "                            if c > 0 and grid[r][c-1] == 1:\n",
    "                                queue.append([r,c-1])\n",
    "                            if c < cols -1 and grid[r][c+1] == 1:\n",
    "                                queue.append([r,c+1])\n",
    "                    #print(queue1)\n",
    "                    island_list.append(queue1)\n",
    "        return island_list\n",
    "grid1=[[1,1,1,0,1],[1,1,0,1,0],[1,1,0,0,0],[1,1,1,0,0]]\n",
    "grid2=[[1,1,1,0,1],[1,1,0,1,0],[1,0,0,0,0],[1,1,1,0,0]]\n",
    "grid1_list=numIslands(grid1)\n",
    "grid2_list =numIslands(grid2)\n",
    "print(grid1_list, grid2_list, sep='\\n')\n",
    "new1 = [x for x in grid1_list if x in grid2_list]\n",
    "print(len(new1))"
   ]
  },
  {
   "cell_type": "code",
   "execution_count": null,
   "metadata": {
    "collapsed": true
   },
   "outputs": [],
   "source": []
  },
  {
   "cell_type": "code",
   "execution_count": 89,
   "metadata": {
    "collapsed": true
   },
   "outputs": [],
   "source": []
  },
  {
   "cell_type": "code",
   "execution_count": null,
   "metadata": {
    "collapsed": false
   },
   "outputs": [],
   "source": []
  },
  {
   "cell_type": "code",
   "execution_count": 84,
   "metadata": {
    "collapsed": true
   },
   "outputs": [],
   "source": []
  },
  {
   "cell_type": "code",
   "execution_count": 86,
   "metadata": {
    "collapsed": false
   },
   "outputs": [
    {
     "name": "stdout",
     "output_type": "stream",
     "text": [
      "2\n"
     ]
    }
   ],
   "source": []
  },
  {
   "cell_type": "code",
   "execution_count": 1,
   "metadata": {
    "collapsed": false
   },
   "outputs": [
    {
     "name": "stdout",
     "output_type": "stream",
     "text": [
      "(1, 2, 3, 4)\n"
     ]
    }
   ],
   "source": [
    "a = (1,2)\n",
    "b = (3,4)\n",
    "c = a+b\n",
    "print(c)"
   ]
  },
  {
   "cell_type": "code",
   "execution_count": 2,
   "metadata": {
    "collapsed": false
   },
   "outputs": [
    {
     "name": "stdout",
     "output_type": "stream",
     "text": [
      "%s  wo\n"
     ]
    }
   ],
   "source": [
    "ex = \"snow world\"\n",
    "print(\"%s\", ex[4:7])"
   ]
  },
  {
   "cell_type": "code",
   "execution_count": 3,
   "metadata": {
    "collapsed": false
   },
   "outputs": [
    {
     "data": {
      "text/plain": [
       "'s'"
      ]
     },
     "execution_count": 3,
     "metadata": {},
     "output_type": "execute_result"
    }
   ],
   "source": [
    "max(\"please help\")"
   ]
  },
  {
   "cell_type": "code",
   "execution_count": 4,
   "metadata": {
    "collapsed": false
   },
   "outputs": [
    {
     "name": "stdout",
     "output_type": "stream",
     "text": [
      "d\n",
      "c\n",
      "b\n",
      "a\n"
     ]
    }
   ],
   "source": [
    "for i in 'abcd'[::-1]:\n",
    "    print(i)"
   ]
  },
  {
   "cell_type": "code",
   "execution_count": 7,
   "metadata": {
    "collapsed": true
   },
   "outputs": [],
   "source": [
    "X = 2+9*((3*12)-8)/10"
   ]
  },
  {
   "cell_type": "code",
   "execution_count": 8,
   "metadata": {
    "collapsed": false
   },
   "outputs": [
    {
     "name": "stdout",
     "output_type": "stream",
     "text": [
      "27.2\n"
     ]
    }
   ],
   "source": [
    "print(X)"
   ]
  },
  {
   "cell_type": "code",
   "execution_count": 9,
   "metadata": {
    "collapsed": false
   },
   "outputs": [
    {
     "name": "stdout",
     "output_type": "stream",
     "text": [
      "None\n"
     ]
    }
   ],
   "source": [
    "def inte(L,incr):\n",
    "    i = 0\n",
    "    while i<len(L):\n",
    "        L[i] = L[i]+ incr\n",
    "        i = i+1\n",
    "value = [1,2,3]\n",
    "print(inte(value,2))"
   ]
  },
  {
   "cell_type": "code",
   "execution_count": 10,
   "metadata": {
    "collapsed": false
   },
   "outputs": [
    {
     "name": "stdout",
     "output_type": "stream",
     "text": [
      "[3, 4, 5]\n"
     ]
    }
   ],
   "source": [
    "print(value)"
   ]
  },
  {
   "cell_type": "code",
   "execution_count": 12,
   "metadata": {
    "collapsed": false
   },
   "outputs": [
    {
     "ename": "TypeError",
     "evalue": "'float' object is not iterable",
     "output_type": "error",
     "traceback": [
      "\u001b[0;31m---------------------------------------------------------------------------\u001b[0m",
      "\u001b[0;31mTypeError\u001b[0m                                 Traceback (most recent call last)",
      "\u001b[0;32m<ipython-input-12-a47093adcf40>\u001b[0m in \u001b[0;36m<module>\u001b[0;34m()\u001b[0m\n\u001b[1;32m      1\u001b[0m \u001b[0mt\u001b[0m \u001b[1;33m=\u001b[0m \u001b[1;36m32.00\u001b[0m\u001b[1;33m\u001b[0m\u001b[0m\n\u001b[0;32m----> 2\u001b[0;31m \u001b[1;33m[\u001b[0m\u001b[0mround\u001b[0m\u001b[1;33m(\u001b[0m\u001b[1;33m(\u001b[0m\u001b[0mx\u001b[0m\u001b[1;33m-\u001b[0m\u001b[1;36m32\u001b[0m\u001b[1;33m)\u001b[0m\u001b[1;33m*\u001b[0m\u001b[1;36m5\u001b[0m\u001b[1;33m/\u001b[0m\u001b[1;36m9\u001b[0m\u001b[1;33m)\u001b[0m \u001b[1;32mfor\u001b[0m \u001b[0mx\u001b[0m \u001b[1;32min\u001b[0m \u001b[0mt\u001b[0m\u001b[1;33m]\u001b[0m\u001b[1;33m\u001b[0m\u001b[0m\n\u001b[0m",
      "\u001b[0;31mTypeError\u001b[0m: 'float' object is not iterable"
     ]
    }
   ],
   "source": [
    "t = 32.00\n",
    "[round((x-32)*5/9) for x in t]"
   ]
  },
  {
   "cell_type": "code",
   "execution_count": 74,
   "metadata": {
    "collapsed": false
   },
   "outputs": [],
   "source": [
    "arr=[1,2,3,4]\n",
    "outpu1=list(map(lambda x:x*x, arr))\n",
    "output2=list(map(lambda x:x*2,outpu1))\n"
   ]
  },
  {
   "cell_type": "code",
   "execution_count": 76,
   "metadata": {
    "collapsed": false
   },
   "outputs": [
    {
     "data": {
      "text/plain": [
       "[2, 8, 18, 32]"
      ]
     },
     "execution_count": 76,
     "metadata": {},
     "output_type": "execute_result"
    }
   ],
   "source": [
    "output2"
   ]
  },
  {
   "cell_type": "code",
   "execution_count": 187,
   "metadata": {
    "collapsed": false
   },
   "outputs": [],
   "source": [
    "import types\n",
    "def abc(arr):\n",
    "    outpu1=list(map(lambda x:x*x, arr))\n",
    "    output2 =list(map(lambda x:x*2, outpu1))\n",
    "    yield output2"
   ]
  },
  {
   "cell_type": "code",
   "execution_count": 188,
   "metadata": {
    "collapsed": false
   },
   "outputs": [
    {
     "name": "stdout",
     "output_type": "stream",
     "text": [
      "<generator object abc at 0x0000020BA0EF7E08>\n"
     ]
    }
   ],
   "source": [
    "arr=[1,2,3,4]\n",
    "cmd=abc(arr)\n",
    "print(cmd)\n",
    "\n",
    "assert(isinstance(cmd, types.GeneratorType))"
   ]
  },
  {
   "cell_type": "code",
   "execution_count": 189,
   "metadata": {
    "collapsed": false
   },
   "outputs": [
    {
     "name": "stdout",
     "output_type": "stream",
     "text": [
      "[2, 8, 18, 32]\n"
     ]
    }
   ],
   "source": [
    "output = []\n",
    "for result_item in cmd:\n",
    "        output.append(result_item)\n",
    "print(*output)"
   ]
  },
  {
   "cell_type": "code",
   "execution_count": 190,
   "metadata": {
    "collapsed": false
   },
   "outputs": [
    {
     "name": "stdout",
     "output_type": "stream",
     "text": [
      "[2, 8, 18, 32]\n"
     ]
    }
   ],
   "source": [
    "\n",
    "print(','.join(map(str, output)))\n"
   ]
  },
  {
   "cell_type": "code",
   "execution_count": 178,
   "metadata": {
    "collapsed": true
   },
   "outputs": [],
   "source": [
    "def cmap(funcs, arr):\n",
    "    outpu1=list(map(funcs[0], arr))\n",
    "    output2 = list(map(funcs[1],outpu1))\n",
    "    yield output2\n",
    "    "
   ]
  },
  {
   "cell_type": "code",
   "execution_count": 66,
   "metadata": {
    "collapsed": false
   },
   "outputs": [
    {
     "name": "stdout",
     "output_type": "stream",
     "text": [
      "fd\n",
      "d\n"
     ]
    }
   ],
   "source": [
    "arr=[1,2,3,4]\n",
    "funcs=[]\n",
    "for i in range(2):\n",
    "    funcs = input() "
   ]
  },
  {
   "cell_type": "code",
   "execution_count": 45,
   "metadata": {
    "collapsed": false
   },
   "outputs": [],
   "source": [
    "cmd=cmap(funcs,arr)"
   ]
  },
  {
   "cell_type": "code",
   "execution_count": 46,
   "metadata": {
    "collapsed": false
   },
   "outputs": [
    {
     "name": "stdout",
     "output_type": "stream",
     "text": [
      "<generator object cmap at 0x0000020BA0EB6BF8>\n"
     ]
    }
   ],
   "source": [
    "print(cmd)"
   ]
  },
  {
   "cell_type": "code",
   "execution_count": 50,
   "metadata": {
    "collapsed": false
   },
   "outputs": [
    {
     "ename": "StopIteration",
     "evalue": "",
     "output_type": "error",
     "traceback": [
      "\u001b[0;31m---------------------------------------------------------------------------\u001b[0m",
      "\u001b[0;31mStopIteration\u001b[0m                             Traceback (most recent call last)",
      "\u001b[0;32m<ipython-input-50-6f12a69316a3>\u001b[0m in \u001b[0;36m<module>\u001b[0;34m()\u001b[0m\n\u001b[0;32m----> 1\u001b[0;31m \u001b[0mcmd\u001b[0m\u001b[1;33m.\u001b[0m\u001b[0m__next__\u001b[0m\u001b[1;33m(\u001b[0m\u001b[1;33m)\u001b[0m\u001b[1;33m\u001b[0m\u001b[0m\n\u001b[0m",
      "\u001b[0;31mStopIteration\u001b[0m: "
     ]
    }
   ],
   "source": []
  },
  {
   "cell_type": "code",
   "execution_count": 89,
   "metadata": {
    "collapsed": true
   },
   "outputs": [],
   "source": [
    "def cmap(funcs, arr):\n",
    "    outpu1=list(map(funcs[0], arr))\n",
    "    output2 = list(map(funcs[1],outpu1))\n",
    "    yield output2"
   ]
  },
  {
   "cell_type": "code",
   "execution_count": null,
   "metadata": {
    "collapsed": true
   },
   "outputs": [],
   "source": [
    "if __name__ == '__main__':\n",
    "    fptr = open(os.environ['OUTPUT_PATH'], 'w')\n",
    "\n",
    "    funcs_count = int(input().strip())\n",
    "\n",
    "    funcs = []\n",
    "\n",
    "    for _ in range(funcs_count):\n",
    "        funcs_item = input().strip()\n",
    "        funcs.append(eval(funcs_item))\n",
    "\n",
    "    arr_count = int(input().strip())\n",
    "\n",
    "    arr = []\n",
    "\n",
    "    for _ in range(arr_count):\n",
    "        arr_item = int(input().strip())\n",
    "        arr.append(arr_item)\n",
    "\n",
    "    result = cmap(funcs, arr)\n",
    "    assert(isinstance(result, types.GeneratorType))\n",
    "    output = []\n",
    "    for result_item in result:\n",
    "        output.append(result_item)\n",
    "    fptr.write('\\n'.join(map(str, output)))\n",
    "    fptr.write('\\n')\n",
    "\n",
    "    fptr.close()\n"
   ]
  }
 ],
 "metadata": {
  "anaconda-cloud": {},
  "kernelspec": {
   "display_name": "Python [conda root]",
   "language": "python",
   "name": "conda-root-py"
  },
  "language_info": {
   "codemirror_mode": {
    "name": "ipython",
    "version": 3
   },
   "file_extension": ".py",
   "mimetype": "text/x-python",
   "name": "python",
   "nbconvert_exporter": "python",
   "pygments_lexer": "ipython3",
   "version": "3.5.2"
  }
 },
 "nbformat": 4,
 "nbformat_minor": 1
}
